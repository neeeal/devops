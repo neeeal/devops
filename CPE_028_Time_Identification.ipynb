{
  "nbformat": 4,
  "nbformat_minor": 0,
  "metadata": {
    "colab": {
      "provenance": [],
      "gpuType": "T4",
      "include_colab_link": true
    },
    "kernelspec": {
      "name": "python3",
      "display_name": "Python 3"
    },
    "language_info": {
      "name": "python"
    },
    "accelerator": "GPU"
  },
  "cells": [
    {
      "cell_type": "markdown",
      "metadata": {
        "id": "view-in-github",
        "colab_type": "text"
      },
      "source": [
        "<a href=\"https://colab.research.google.com/github/neeeal/devops/blob/main/CPE_028_Time_Identification.ipynb\" target=\"_parent\"><img src=\"https://colab.research.google.com/assets/colab-badge.svg\" alt=\"Open In Colab\"/></a>"
      ]
    },
    {
      "cell_type": "code",
      "execution_count": null,
      "metadata": {
        "colab": {
          "base_uri": "https://localhost:8080/"
        },
        "id": "KZkQbYRw3ZyE",
        "outputId": "d0fd225c-3238-48d2-a13c-d1ac41f1fb8b"
      },
      "outputs": [
        {
          "output_type": "stream",
          "name": "stdout",
          "text": [
            "Collecting opendatasets\n",
            "  Downloading opendatasets-0.1.22-py3-none-any.whl (15 kB)\n",
            "Requirement already satisfied: tqdm in /usr/local/lib/python3.10/dist-packages (from opendatasets) (4.66.1)\n",
            "Requirement already satisfied: kaggle in /usr/local/lib/python3.10/dist-packages (from opendatasets) (1.5.16)\n",
            "Requirement already satisfied: click in /usr/local/lib/python3.10/dist-packages (from opendatasets) (8.1.7)\n",
            "Requirement already satisfied: six>=1.10 in /usr/local/lib/python3.10/dist-packages (from kaggle->opendatasets) (1.16.0)\n",
            "Requirement already satisfied: certifi in /usr/local/lib/python3.10/dist-packages (from kaggle->opendatasets) (2023.7.22)\n",
            "Requirement already satisfied: python-dateutil in /usr/local/lib/python3.10/dist-packages (from kaggle->opendatasets) (2.8.2)\n",
            "Requirement already satisfied: requests in /usr/local/lib/python3.10/dist-packages (from kaggle->opendatasets) (2.31.0)\n",
            "Requirement already satisfied: python-slugify in /usr/local/lib/python3.10/dist-packages (from kaggle->opendatasets) (8.0.1)\n",
            "Requirement already satisfied: urllib3 in /usr/local/lib/python3.10/dist-packages (from kaggle->opendatasets) (2.0.6)\n",
            "Requirement already satisfied: bleach in /usr/local/lib/python3.10/dist-packages (from kaggle->opendatasets) (6.1.0)\n",
            "Requirement already satisfied: webencodings in /usr/local/lib/python3.10/dist-packages (from bleach->kaggle->opendatasets) (0.5.1)\n",
            "Requirement already satisfied: text-unidecode>=1.3 in /usr/local/lib/python3.10/dist-packages (from python-slugify->kaggle->opendatasets) (1.3)\n",
            "Requirement already satisfied: charset-normalizer<4,>=2 in /usr/local/lib/python3.10/dist-packages (from requests->kaggle->opendatasets) (3.3.0)\n",
            "Requirement already satisfied: idna<4,>=2.5 in /usr/local/lib/python3.10/dist-packages (from requests->kaggle->opendatasets) (3.4)\n",
            "Installing collected packages: opendatasets\n",
            "Successfully installed opendatasets-0.1.22\n"
          ]
        }
      ],
      "source": [
        "!pip install opendatasets"
      ]
    },
    {
      "cell_type": "code",
      "source": [
        "import opendatasets as od\n",
        "\n",
        "#{\"username\":\"deanmanalo\",\"key\":\"f6dc24e352b07a73ff8f6f9c0afb9e87\"}\n",
        "od.download('https://www.kaggle.com/datasets/gpiosenka/time-image-datasetclassification?fbclid=IwAR0JIR9Je2rFyjzjWA9HHpQkZyL84mtcuCck1-1YWTWEug73MaIZIKr48uk')"
      ],
      "metadata": {
        "colab": {
          "base_uri": "https://localhost:8080/"
        },
        "id": "K90YfCQU3i6i",
        "outputId": "56aca0f9-c0b4-4e3b-9d4c-9cd88d6c43f1"
      },
      "execution_count": null,
      "outputs": [
        {
          "output_type": "stream",
          "name": "stdout",
          "text": [
            "Please provide your Kaggle credentials to download this dataset. Learn more: http://bit.ly/kaggle-creds\n",
            "Your Kaggle username: deanmanalo\n",
            "Your Kaggle Key: ··········\n",
            "Downloading time-image-datasetclassification.zip to ./time-image-datasetclassification\n"
          ]
        },
        {
          "output_type": "stream",
          "name": "stderr",
          "text": [
            "100%|██████████| 383M/383M [00:07<00:00, 52.8MB/s]\n"
          ]
        },
        {
          "output_type": "stream",
          "name": "stdout",
          "text": [
            "\n"
          ]
        }
      ]
    },
    {
      "cell_type": "code",
      "source": [
        "from keras.models import Sequential, Model\n",
        "from keras.layers import Dense, Flatten, Input, Dropout, BatchNormalization, Conv2D, MaxPool2D, GlobalAveragePooling2D\n",
        "from keras.callbacks import ModelCheckpoint\n",
        "from keras.preprocessing.image import ImageDataGenerator\n",
        "from google.colab.patches import cv2_imshow\n",
        "from tensorflow.keras.applications import VGG16\n",
        "from tensorflow.keras.optimizers import Adam\n",
        "\n",
        "import matplotlib.pyplot as plt\n",
        "import numpy as np\n",
        "import os\n",
        "import PIL\n",
        "import PIL.Image\n",
        "import tensorflow as tf\n",
        "import tensorflow_datasets as tfds"
      ],
      "metadata": {
        "id": "TPFoX03G4DlC"
      },
      "execution_count": null,
      "outputs": []
    },
    {
      "cell_type": "code",
      "source": [
        "main_dir = '/content/time-image-datasetclassification'\n",
        "dataset_folders = os.listdir(main_dir)\n",
        "dataset_folders"
      ],
      "metadata": {
        "colab": {
          "base_uri": "https://localhost:8080/"
        },
        "id": "XwMOFaNu41V5",
        "outputId": "217a2653-921e-4288-9f98-b74d7a8caf15"
      },
      "execution_count": null,
      "outputs": [
        {
          "output_type": "execute_result",
          "data": {
            "text/plain": [
              "['train', 'test', 'valid', 'time-99.68.h5', 'clocks.csv']"
            ]
          },
          "metadata": {},
          "execution_count": 4
        }
      ]
    },
    {
      "cell_type": "code",
      "source": [
        "train_dir = os.path.join(main_dir, dataset_folders[0])\n",
        "test_dir = os.path.join(main_dir, dataset_folders[1])\n",
        "val_dir = os.path.join(main_dir, dataset_folders[2])\n",
        "print(train_dir)\n",
        "print(test_dir)\n",
        "print(val_dir)"
      ],
      "metadata": {
        "colab": {
          "base_uri": "https://localhost:8080/"
        },
        "id": "A4yLvfvN66o6",
        "outputId": "b1b3c1fd-0fc7-42e1-adac-626796e8a2e0"
      },
      "execution_count": null,
      "outputs": [
        {
          "output_type": "stream",
          "name": "stdout",
          "text": [
            "/content/time-image-datasetclassification/train\n",
            "/content/time-image-datasetclassification/test\n",
            "/content/time-image-datasetclassification/valid\n"
          ]
        }
      ]
    },
    {
      "cell_type": "code",
      "source": [
        "classes = os.listdir(train_dir)\n",
        "print(classes[0:5])\n",
        "print(len(classes))"
      ],
      "metadata": {
        "colab": {
          "base_uri": "https://localhost:8080/"
        },
        "id": "nKeVr0T67UIp",
        "outputId": "18e47611-10e7-4c98-eeec-3dc7243ae26e"
      },
      "execution_count": null,
      "outputs": [
        {
          "output_type": "stream",
          "name": "stdout",
          "text": [
            "['7-20', '3-30', '2-25', '5-40', '1-20']\n",
            "144\n"
          ]
        }
      ]
    },
    {
      "cell_type": "code",
      "source": [
        "sample_path = os.path.join(train_dir, classes[0])\n",
        "sample_path"
      ],
      "metadata": {
        "colab": {
          "base_uri": "https://localhost:8080/",
          "height": 35
        },
        "id": "I5PbhfAd7lox",
        "outputId": "3dc578c3-9278-4fb4-d0a8-20d3023f95da"
      },
      "execution_count": null,
      "outputs": [
        {
          "output_type": "execute_result",
          "data": {
            "text/plain": [
              "'/content/time-image-datasetclassification/train/7-20'"
            ],
            "application/vnd.google.colaboratory.intrinsic+json": {
              "type": "string"
            }
          },
          "metadata": {},
          "execution_count": 10
        }
      ]
    },
    {
      "cell_type": "code",
      "source": [
        "sample_images = os.listdir(sample_path)\n",
        "print(sample_images[0:5])\n",
        "print(len(sample_images))"
      ],
      "metadata": {
        "colab": {
          "base_uri": "https://localhost:8080/"
        },
        "id": "TSOIqROF78ex",
        "outputId": "5de659aa-1e52-4b63-9d23-880a3ba65625"
      },
      "execution_count": null,
      "outputs": [
        {
          "output_type": "stream",
          "name": "stdout",
          "text": [
            "['26.jpg', '68.jpg', '44.jpg', '20.jpg', '28.jpg']\n",
            "80\n"
          ]
        }
      ]
    },
    {
      "cell_type": "code",
      "source": [
        "sample_image_path = os.path.join(sample_path, sample_images[0])\n",
        "sample_image_path"
      ],
      "metadata": {
        "colab": {
          "base_uri": "https://localhost:8080/",
          "height": 35
        },
        "id": "DtIwELseDOlC",
        "outputId": "297f2080-a1a4-4367-d3bb-da6c36fb9aa3"
      },
      "execution_count": null,
      "outputs": [
        {
          "output_type": "execute_result",
          "data": {
            "text/plain": [
              "'/content/time-image-datasetclassification/train/7-20/26.jpg'"
            ],
            "application/vnd.google.colaboratory.intrinsic+json": {
              "type": "string"
            }
          },
          "metadata": {},
          "execution_count": 12
        }
      ]
    },
    {
      "cell_type": "code",
      "source": [
        "PIL.Image.open(sample_image_path)"
      ],
      "metadata": {
        "colab": {
          "base_uri": "https://localhost:8080/",
          "height": 241
        },
        "id": "eHMrFu5UJkOq",
        "outputId": "33f2a873-edce-4ddc-99ab-f306b9d04355"
      },
      "execution_count": null,
      "outputs": [
        {
          "output_type": "execute_result",
          "data": {
            "text/plain": [
              "<PIL.JpegImagePlugin.JpegImageFile image mode=RGB size=224x224>"
            ],
            "image/png": "[encoded data removed]"
          },
          "metadata": {},
          "execution_count": 13
        }
      ]
    },
    {
      "cell_type": "code",
      "source": [
        "batch_size = 32\n",
        "img_size = 224\n",
        "\n",
        "train_datagen = ImageDataGenerator(\n",
        "    rescale=1/255.,\n",
        "    zoom_range=0.2,\n",
        "    width_shift_range=0.2,\n",
        "    height_shift_range=0.2\n",
        "    )\n",
        "val_datagen = ImageDataGenerator(\n",
        "    rescale=1/255.\n",
        "    )\n",
        "test_datagen = ImageDataGenerator(\n",
        "    rescale=1/255.\n",
        "    )\n",
        "\n",
        "train_generator = train_datagen.flow_from_directory(\n",
        "    train_dir,\n",
        "    target_size=(img_size, img_size),\n",
        "    batch_size=batch_size,\n",
        "    shuffle=True,\n",
        "    class_mode='categorical'\n",
        "    )\n",
        "\n",
        "val_generator = val_datagen.flow_from_directory(\n",
        "    val_dir,\n",
        "    target_size=(img_size, img_size),\n",
        "    batch_size=batch_size,\n",
        "    shuffle=False,\n",
        "    class_mode='categorical'\n",
        "    )\n",
        "\n",
        "test_generator = test_datagen.flow_from_directory(\n",
        "    test_dir,\n",
        "    target_size=(img_size, img_size),\n",
        "    batch_size=batch_size,\n",
        "    shuffle=False,\n",
        "    class_mode='categorical'\n",
        "    )"
      ],
      "metadata": {
        "colab": {
          "base_uri": "https://localhost:8080/"
        },
        "id": "sjejdWzaDrLa",
        "outputId": "36aedc89-44ae-4437-edc0-9a108e97bf53"
      },
      "execution_count": null,
      "outputs": [
        {
          "output_type": "stream",
          "name": "stdout",
          "text": [
            "Found 11520 images belonging to 144 classes.\n",
            "Found 1440 images belonging to 144 classes.\n",
            "Found 1440 images belonging to 144 classes.\n"
          ]
        }
      ]
    },
    {
      "cell_type": "code",
      "source": [
        "img_size = 224\n",
        "base_model = VGG16(\n",
        "    include_top = False,\n",
        "    weights = 'imagenet',\n",
        "    input_shape = (img_size,img_size,3))"
      ],
      "metadata": {
        "id": "Y04JKEFWFv66"
      },
      "execution_count": null,
      "outputs": []
    },
    {
      "cell_type": "code",
      "source": [
        "base_model.summary()"
      ],
      "metadata": {
        "colab": {
          "base_uri": "https://localhost:8080/"
        },
        "id": "LLgCCD1JTAvj",
        "outputId": "5af6e1ab-44cb-4645-d275-ddce9e15a6a7"
      },
      "execution_count": null,
      "outputs": [
        {
          "output_type": "stream",
          "name": "stdout",
          "text": [
            "Model: \"vgg16\"\n",
            "_________________________________________________________________\n",
            " Layer (type)                Output Shape              Param #   \n",
            "=================================================================\n",
            " input_8 (InputLayer)        [(None, 224, 224, 3)]     0         \n",
            "                                                                 \n",
            " block1_conv1 (Conv2D)       (None, 224, 224, 64)      1792      \n",
            "                                                                 \n",
            " block1_conv2 (Conv2D)       (None, 224, 224, 64)      36928     \n",
            "                                                                 \n",
            " block1_pool (MaxPooling2D)  (None, 112, 112, 64)      0         \n",
            "                                                                 \n",
            " block2_conv1 (Conv2D)       (None, 112, 112, 128)     73856     \n",
            "                                                                 \n",
            " block2_conv2 (Conv2D)       (None, 112, 112, 128)     147584    \n",
            "                                                                 \n",
            " block2_pool (MaxPooling2D)  (None, 56, 56, 128)       0         \n",
            "                                                                 \n",
            " block3_conv1 (Conv2D)       (None, 56, 56, 256)       295168    \n",
            "                                                                 \n",
            " block3_conv2 (Conv2D)       (None, 56, 56, 256)       590080    \n",
            "                                                                 \n",
            " block3_conv3 (Conv2D)       (None, 56, 56, 256)       590080    \n",
            "                                                                 \n",
            " block3_pool (MaxPooling2D)  (None, 28, 28, 256)       0         \n",
            "                                                                 \n",
            " block4_conv1 (Conv2D)       (None, 28, 28, 512)       1180160   \n",
            "                                                                 \n",
            " block4_conv2 (Conv2D)       (None, 28, 28, 512)       2359808   \n",
            "                                                                 \n",
            " block4_conv3 (Conv2D)       (None, 28, 28, 512)       2359808   \n",
            "                                                                 \n",
            " block4_pool (MaxPooling2D)  (None, 14, 14, 512)       0         \n",
            "                                                                 \n",
            " block5_conv1 (Conv2D)       (None, 14, 14, 512)       2359808   \n",
            "                                                                 \n",
            " block5_conv2 (Conv2D)       (None, 14, 14, 512)       2359808   \n",
            "                                                                 \n",
            " block5_conv3 (Conv2D)       (None, 14, 14, 512)       2359808   \n",
            "                                                                 \n",
            " block5_pool (MaxPooling2D)  (None, 7, 7, 512)         0         \n",
            "                                                                 \n",
            "=================================================================\n",
            "Total params: 14714688 (56.13 MB)\n",
            "Trainable params: 14714688 (56.13 MB)\n",
            "Non-trainable params: 0 (0.00 Byte)\n",
            "_________________________________________________________________\n"
          ]
        }
      ]
    },
    {
      "cell_type": "code",
      "source": [
        "for layer in base_model.layers[:-4]:\n",
        "    layer.trainable = False"
      ],
      "metadata": {
        "id": "LUFtaim0TSWi"
      },
      "execution_count": null,
      "outputs": []
    },
    {
      "cell_type": "code",
      "source": [
        "base_model.summary()"
      ],
      "metadata": {
        "colab": {
          "base_uri": "https://localhost:8080/"
        },
        "id": "mzRZI7hjTVFt",
        "outputId": "fbcfbc64-86dc-48f5-a008-fdd034413f14"
      },
      "execution_count": null,
      "outputs": [
        {
          "output_type": "stream",
          "name": "stdout",
          "text": [
            "Model: \"vgg16\"\n",
            "_________________________________________________________________\n",
            " Layer (type)                Output Shape              Param #   \n",
            "=================================================================\n",
            " input_8 (InputLayer)        [(None, 224, 224, 3)]     0         \n",
            "                                                                 \n",
            " block1_conv1 (Conv2D)       (None, 224, 224, 64)      1792      \n",
            "                                                                 \n",
            " block1_conv2 (Conv2D)       (None, 224, 224, 64)      36928     \n",
            "                                                                 \n",
            " block1_pool (MaxPooling2D)  (None, 112, 112, 64)      0         \n",
            "                                                                 \n",
            " block2_conv1 (Conv2D)       (None, 112, 112, 128)     73856     \n",
            "                                                                 \n",
            " block2_conv2 (Conv2D)       (None, 112, 112, 128)     147584    \n",
            "                                                                 \n",
            " block2_pool (MaxPooling2D)  (None, 56, 56, 128)       0         \n",
            "                                                                 \n",
            " block3_conv1 (Conv2D)       (None, 56, 56, 256)       295168    \n",
            "                                                                 \n",
            " block3_conv2 (Conv2D)       (None, 56, 56, 256)       590080    \n",
            "                                                                 \n",
            " block3_conv3 (Conv2D)       (None, 56, 56, 256)       590080    \n",
            "                                                                 \n",
            " block3_pool (MaxPooling2D)  (None, 28, 28, 256)       0         \n",
            "                                                                 \n",
            " block4_conv1 (Conv2D)       (None, 28, 28, 512)       1180160   \n",
            "                                                                 \n",
            " block4_conv2 (Conv2D)       (None, 28, 28, 512)       2359808   \n",
            "                                                                 \n",
            " block4_conv3 (Conv2D)       (None, 28, 28, 512)       2359808   \n",
            "                                                                 \n",
            " block4_pool (MaxPooling2D)  (None, 14, 14, 512)       0         \n",
            "                                                                 \n",
            " block5_conv1 (Conv2D)       (None, 14, 14, 512)       2359808   \n",
            "                                                                 \n",
            " block5_conv2 (Conv2D)       (None, 14, 14, 512)       2359808   \n",
            "                                                                 \n",
            " block5_conv3 (Conv2D)       (None, 14, 14, 512)       2359808   \n",
            "                                                                 \n",
            " block5_pool (MaxPooling2D)  (None, 7, 7, 512)         0         \n",
            "                                                                 \n",
            "=================================================================\n",
            "Total params: 14714688 (56.13 MB)\n",
            "Trainable params: 7079424 (27.01 MB)\n",
            "Non-trainable params: 7635264 (29.13 MB)\n",
            "_________________________________________________________________\n"
          ]
        }
      ]
    },
    {
      "cell_type": "code",
      "source": [
        "x = GlobalAveragePooling2D()(base_model.output)\n",
        "x = Dense(512, activation='relu')(x)\n",
        "x = Dropout(0.5)(x)\n",
        "\n",
        "outputs = Dense(144, activation='softmax')(x)\n",
        "\n",
        "model = Model(inputs=base_model.inputs, outputs=outputs)\n",
        "model.summary()"
      ],
      "metadata": {
        "colab": {
          "base_uri": "https://localhost:8080/"
        },
        "id": "45q1PIFHUCkK",
        "outputId": "1f5e1822-961c-49f9-80e5-b1cbddb9aba4"
      },
      "execution_count": null,
      "outputs": [
        {
          "output_type": "stream",
          "name": "stdout",
          "text": [
            "Model: \"model_6\"\n",
            "_________________________________________________________________\n",
            " Layer (type)                Output Shape              Param #   \n",
            "=================================================================\n",
            " input_8 (InputLayer)        [(None, 224, 224, 3)]     0         \n",
            "                                                                 \n",
            " block1_conv1 (Conv2D)       (None, 224, 224, 64)      1792      \n",
            "                                                                 \n",
            " block1_conv2 (Conv2D)       (None, 224, 224, 64)      36928     \n",
            "                                                                 \n",
            " block1_pool (MaxPooling2D)  (None, 112, 112, 64)      0         \n",
            "                                                                 \n",
            " block2_conv1 (Conv2D)       (None, 112, 112, 128)     73856     \n",
            "                                                                 \n",
            " block2_conv2 (Conv2D)       (None, 112, 112, 128)     147584    \n",
            "                                                                 \n",
            " block2_pool (MaxPooling2D)  (None, 56, 56, 128)       0         \n",
            "                                                                 \n",
            " block3_conv1 (Conv2D)       (None, 56, 56, 256)       295168    \n",
            "                                                                 \n",
            " block3_conv2 (Conv2D)       (None, 56, 56, 256)       590080    \n",
            "                                                                 \n",
            " block3_conv3 (Conv2D)       (None, 56, 56, 256)       590080    \n",
            "                                                                 \n",
            " block3_pool (MaxPooling2D)  (None, 28, 28, 256)       0         \n",
            "                                                                 \n",
            " block4_conv1 (Conv2D)       (None, 28, 28, 512)       1180160   \n",
            "                                                                 \n",
            " block4_conv2 (Conv2D)       (None, 28, 28, 512)       2359808   \n",
            "                                                                 \n",
            " block4_conv3 (Conv2D)       (None, 28, 28, 512)       2359808   \n",
            "                                                                 \n",
            " block4_pool (MaxPooling2D)  (None, 14, 14, 512)       0         \n",
            "                                                                 \n",
            " block5_conv1 (Conv2D)       (None, 14, 14, 512)       2359808   \n",
            "                                                                 \n",
            " block5_conv2 (Conv2D)       (None, 14, 14, 512)       2359808   \n",
            "                                                                 \n",
            " block5_conv3 (Conv2D)       (None, 14, 14, 512)       2359808   \n",
            "                                                                 \n",
            " block5_pool (MaxPooling2D)  (None, 7, 7, 512)         0         \n",
            "                                                                 \n",
            " global_average_pooling2d_9  (None, 512)               0         \n",
            "  (GlobalAveragePooling2D)                                       \n",
            "                                                                 \n",
            " dense_20 (Dense)            (None, 512)               262656    \n",
            "                                                                 \n",
            " dropout_8 (Dropout)         (None, 512)               0         \n",
            "                                                                 \n",
            " dense_21 (Dense)            (None, 144)               73872     \n",
            "                                                                 \n",
            "=================================================================\n",
            "Total params: 15051216 (57.42 MB)\n",
            "Trainable params: 7415952 (28.29 MB)\n",
            "Non-trainable params: 7635264 (29.13 MB)\n",
            "_________________________________________________________________\n"
          ]
        }
      ]
    },
    {
      "cell_type": "code",
      "source": [
        "# creating save folder\n",
        "save_filepath = '/content/drive/MyDrive/TIP Files/CPE 028/Saved Model'\n",
        "if os.path.exists(save_filepath) == False:\n",
        "  os.makedirs(save_filepath)"
      ],
      "metadata": {
        "id": "FhD32XetF0D5"
      },
      "execution_count": null,
      "outputs": []
    },
    {
      "cell_type": "code",
      "source": [
        "# checkpoint\n",
        "model_path = os.path.join(save_filepath,'best_model.h5')\n",
        "checkpoint = ModelCheckpoint(model_path, monitor='val_accuracy', verbose=1, save_best_only=True, mode='max')\n",
        "callbacks_list = [checkpoint]"
      ],
      "metadata": {
        "id": "oMC90ESRF0_p"
      },
      "execution_count": null,
      "outputs": []
    },
    {
      "cell_type": "code",
      "source": [
        "# training model\n",
        "model.compile(loss='categorical_crossentropy', optimizer=Adam(learning_rate=0.0001), metrics=['accuracy'])\n",
        "hist = model.fit(\n",
        "    train_generator,\n",
        "    validation_data=test_generator,\n",
        "    epochs=10,\n",
        "    callbacks=callbacks_list\n",
        "    )"
      ],
      "metadata": {
        "colab": {
          "base_uri": "https://localhost:8080/"
        },
        "id": "YbkG2EHTF2Nq",
        "outputId": "2a784bae-1615-4dea-8f5f-9c92ca9eb2ca"
      },
      "execution_count": null,
      "outputs": [
        {
          "output_type": "stream",
          "name": "stdout",
          "text": [
            "Epoch 1/10\n",
            "360/360 [==============================] - ETA: 0s - loss: 4.9765 - accuracy: 0.0056\n",
            "Epoch 1: val_accuracy improved from -inf to 0.00903, saving model to /content/drive/MyDrive/TIP Files/CPE 028/Saved Model/best_model.h5\n"
          ]
        },
        {
          "output_type": "stream",
          "name": "stderr",
          "text": [
            "/usr/local/lib/python3.10/dist-packages/keras/src/engine/training.py:3000: UserWarning: You are saving your model as an HDF5 file via `model.save()`. This file format is considered legacy. We recommend using instead the native Keras format, e.g. `model.save('my_model.keras')`.\n",
            "  saving_api.save_model(\n"
          ]
        },
        {
          "output_type": "stream",
          "name": "stdout",
          "text": [
            "\b\b\b\b\b\b\b\b\b\b\b\b\b\b\b\b\b\b\b\b\b\b\b\b\b\b\b\b\b\b\b\b\b\b\b\b\b\b\b\b\b\b\b\b\b\b\b\b\b\b\b\b\b\b\b\b\b\b\b\b\b\b\b\b\b\b\b\b\b\b\b\b\b\b\b\b\b\b\b\b\b\b\b\b\r360/360 [==============================] - 173s 468ms/step - loss: 4.9765 - accuracy: 0.0056 - val_loss: 4.9695 - val_accuracy: 0.0090\n",
            "Epoch 2/10\n",
            "360/360 [==============================] - ETA: 0s - loss: 4.8876 - accuracy: 0.0086\n",
            "Epoch 2: val_accuracy improved from 0.00903 to 0.02292, saving model to /content/drive/MyDrive/TIP Files/CPE 028/Saved Model/best_model.h5\n",
            "360/360 [==============================] - 170s 473ms/step - loss: 4.8876 - accuracy: 0.0086 - val_loss: 4.6657 - val_accuracy: 0.0229\n",
            "Epoch 3/10\n",
            "360/360 [==============================] - ETA: 0s - loss: 4.3067 - accuracy: 0.0437\n",
            "Epoch 3: val_accuracy improved from 0.02292 to 0.20069, saving model to /content/drive/MyDrive/TIP Files/CPE 028/Saved Model/best_model.h5\n",
            "360/360 [==============================] - 171s 474ms/step - loss: 4.3067 - accuracy: 0.0437 - val_loss: 3.0718 - val_accuracy: 0.2007\n",
            "Epoch 4/10\n",
            "360/360 [==============================] - ETA: 0s - loss: 2.7421 - accuracy: 0.2334\n",
            "Epoch 4: val_accuracy improved from 0.20069 to 0.58681, saving model to /content/drive/MyDrive/TIP Files/CPE 028/Saved Model/best_model.h5\n",
            "360/360 [==============================] - 172s 475ms/step - loss: 2.7421 - accuracy: 0.2334 - val_loss: 1.4497 - val_accuracy: 0.5868\n",
            "Epoch 5/10\n",
            "360/360 [==============================] - ETA: 0s - loss: 1.7339 - accuracy: 0.4501\n",
            "Epoch 5: val_accuracy improved from 0.58681 to 0.73819, saving model to /content/drive/MyDrive/TIP Files/CPE 028/Saved Model/best_model.h5\n",
            "360/360 [==============================] - 171s 474ms/step - loss: 1.7339 - accuracy: 0.4501 - val_loss: 0.8625 - val_accuracy: 0.7382\n",
            "Epoch 6/10\n",
            "360/360 [==============================] - ETA: 0s - loss: 1.2168 - accuracy: 0.5997\n",
            "Epoch 6: val_accuracy improved from 0.73819 to 0.82292, saving model to /content/drive/MyDrive/TIP Files/CPE 028/Saved Model/best_model.h5\n",
            "360/360 [==============================] - 173s 480ms/step - loss: 1.2168 - accuracy: 0.5997 - val_loss: 0.5812 - val_accuracy: 0.8229\n",
            "Epoch 7/10\n",
            "360/360 [==============================] - ETA: 0s - loss: 0.9265 - accuracy: 0.6850\n",
            "Epoch 7: val_accuracy improved from 0.82292 to 0.85625, saving model to /content/drive/MyDrive/TIP Files/CPE 028/Saved Model/best_model.h5\n",
            "360/360 [==============================] - 173s 480ms/step - loss: 0.9265 - accuracy: 0.6850 - val_loss: 0.4547 - val_accuracy: 0.8562\n",
            "Epoch 8/10\n",
            "360/360 [==============================] - ETA: 0s - loss: 0.7232 - accuracy: 0.7541\n",
            "Epoch 8: val_accuracy improved from 0.85625 to 0.88472, saving model to /content/drive/MyDrive/TIP Files/CPE 028/Saved Model/best_model.h5\n",
            "360/360 [==============================] - 182s 506ms/step - loss: 0.7232 - accuracy: 0.7541 - val_loss: 0.3982 - val_accuracy: 0.8847\n",
            "Epoch 9/10\n",
            "360/360 [==============================] - ETA: 0s - loss: 0.5679 - accuracy: 0.8045\n",
            "Epoch 9: val_accuracy improved from 0.88472 to 0.90972, saving model to /content/drive/MyDrive/TIP Files/CPE 028/Saved Model/best_model.h5\n",
            "360/360 [==============================] - 176s 488ms/step - loss: 0.5679 - accuracy: 0.8045 - val_loss: 0.2777 - val_accuracy: 0.9097\n",
            "Epoch 10/10\n",
            "360/360 [==============================] - ETA: 0s - loss: 0.4627 - accuracy: 0.8357\n",
            "Epoch 10: val_accuracy improved from 0.90972 to 0.91528, saving model to /content/drive/MyDrive/TIP Files/CPE 028/Saved Model/best_model.h5\n",
            "360/360 [==============================] - 170s 472ms/step - loss: 0.4627 - accuracy: 0.8357 - val_loss: 0.2491 - val_accuracy: 0.9153\n"
          ]
        }
      ]
    },
    {
      "cell_type": "code",
      "source": [
        "# additional training model\n",
        "add_hist = model.fit(\n",
        "    train_generator,\n",
        "    validation_data=test_generator,\n",
        "    epochs=5,\n",
        "    callbacks=callbacks_list\n",
        "    )"
      ],
      "metadata": {
        "colab": {
          "base_uri": "https://localhost:8080/"
        },
        "id": "TwrKCuEloPUC",
        "outputId": "ecf0b91b-edc0-42a4-e62f-cc5fd5f93203"
      },
      "execution_count": null,
      "outputs": [
        {
          "output_type": "stream",
          "name": "stdout",
          "text": [
            "Epoch 1/5\n",
            "360/360 [==============================] - ETA: 0s - loss: 0.3619 - accuracy: 0.8761\n",
            "Epoch 1: val_accuracy improved from 0.91528 to 0.92083, saving model to /content/drive/MyDrive/TIP Files/CPE 028/Saved Model/best_model.h5\n"
          ]
        },
        {
          "output_type": "stream",
          "name": "stderr",
          "text": [
            "/usr/local/lib/python3.10/dist-packages/keras/src/engine/training.py:3000: UserWarning: You are saving your model as an HDF5 file via `model.save()`. This file format is considered legacy. We recommend using instead the native Keras format, e.g. `model.save('my_model.keras')`.\n",
            "  saving_api.save_model(\n"
          ]
        },
        {
          "output_type": "stream",
          "name": "stdout",
          "text": [
            "\b\b\b\b\b\b\b\b\b\b\b\b\b\b\b\b\b\b\b\b\b\b\b\b\b\b\b\b\b\b\b\b\b\b\b\b\b\b\b\b\b\b\b\b\b\b\b\b\b\b\b\b\b\b\b\b\b\b\b\b\b\b\b\b\b\b\b\b\b\b\b\b\b\b\b\b\b\b\b\b\b\b\b\b\r360/360 [==============================] - 169s 470ms/step - loss: 0.3619 - accuracy: 0.8761 - val_loss: 0.2239 - val_accuracy: 0.9208\n",
            "Epoch 2/5\n",
            "360/360 [==============================] - ETA: 0s - loss: 0.3044 - accuracy: 0.8940\n",
            "Epoch 2: val_accuracy improved from 0.92083 to 0.95347, saving model to /content/drive/MyDrive/TIP Files/CPE 028/Saved Model/best_model.h5\n",
            "360/360 [==============================] - 168s 467ms/step - loss: 0.3044 - accuracy: 0.8940 - val_loss: 0.1633 - val_accuracy: 0.9535\n",
            "Epoch 3/5\n",
            "360/360 [==============================] - ETA: 0s - loss: 0.2691 - accuracy: 0.9091\n",
            "Epoch 3: val_accuracy improved from 0.95347 to 0.96042, saving model to /content/drive/MyDrive/TIP Files/CPE 028/Saved Model/best_model.h5\n",
            "360/360 [==============================] - 172s 477ms/step - loss: 0.2691 - accuracy: 0.9091 - val_loss: 0.1363 - val_accuracy: 0.9604\n",
            "Epoch 4/5\n",
            "360/360 [==============================] - ETA: 0s - loss: 0.2243 - accuracy: 0.9255\n",
            "Epoch 4: val_accuracy did not improve from 0.96042\n",
            "360/360 [==============================] - 169s 469ms/step - loss: 0.2243 - accuracy: 0.9255 - val_loss: 0.1558 - val_accuracy: 0.9549\n",
            "Epoch 5/5\n",
            "360/360 [==============================] - ETA: 0s - loss: 0.1953 - accuracy: 0.9320\n",
            "Epoch 5: val_accuracy improved from 0.96042 to 0.96250, saving model to /content/drive/MyDrive/TIP Files/CPE 028/Saved Model/best_model.h5\n",
            "360/360 [==============================] - 167s 465ms/step - loss: 0.1953 - accuracy: 0.9320 - val_loss: 0.1266 - val_accuracy: 0.9625\n"
          ]
        }
      ]
    }
  ]
}